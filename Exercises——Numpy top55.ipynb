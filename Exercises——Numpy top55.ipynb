{
 "cells": [
  {
   "cell_type": "markdown",
   "id": "bf79c78b",
   "metadata": {},
   "source": [
    "# Python NumPy Exercises\n",
    "\n",
    "This is a collection of exercises that have been collected in the numpy mailing list, on stack overflow\n",
    "and in the numpy documentation. The goal of this collection is to offer a quick reference for both old\n",
    "and new users but also to provide a set of exercises for those who teach."
   ]
  },
  {
   "cell_type": "markdown",
   "id": "017db353",
   "metadata": {},
   "source": [
    "#### 1. Import the numpy package under the name `np` and print the numpy version and the configuration (★☆☆)\n",
    "\n",
    "`Hint: import … as` and `np.__version__, np.show_config)`"
   ]
  },
  {
   "cell_type": "code",
   "execution_count": 1,
   "id": "e28779fe",
   "metadata": {},
   "outputs": [
    {
     "name": "stdout",
     "output_type": "stream",
     "text": [
      "1.20.1\n",
      "blas_mkl_info:\n",
      "    libraries = ['mkl_rt']\n",
      "    library_dirs = ['D:/Anaconda3\\\\Library\\\\lib']\n",
      "    define_macros = [('SCIPY_MKL_H', None), ('HAVE_CBLAS', None)]\n",
      "    include_dirs = ['D:/Anaconda3\\\\Library\\\\include']\n",
      "blas_opt_info:\n",
      "    libraries = ['mkl_rt']\n",
      "    library_dirs = ['D:/Anaconda3\\\\Library\\\\lib']\n",
      "    define_macros = [('SCIPY_MKL_H', None), ('HAVE_CBLAS', None)]\n",
      "    include_dirs = ['D:/Anaconda3\\\\Library\\\\include']\n",
      "lapack_mkl_info:\n",
      "    libraries = ['mkl_rt']\n",
      "    library_dirs = ['D:/Anaconda3\\\\Library\\\\lib']\n",
      "    define_macros = [('SCIPY_MKL_H', None), ('HAVE_CBLAS', None)]\n",
      "    include_dirs = ['D:/Anaconda3\\\\Library\\\\include']\n",
      "lapack_opt_info:\n",
      "    libraries = ['mkl_rt']\n",
      "    library_dirs = ['D:/Anaconda3\\\\Library\\\\lib']\n",
      "    define_macros = [('SCIPY_MKL_H', None), ('HAVE_CBLAS', None)]\n",
      "    include_dirs = ['D:/Anaconda3\\\\Library\\\\include']\n"
     ]
    }
   ],
   "source": [
    "import numpy as np\n",
    "print(np.__version__)\n",
    "np.show_config()"
   ]
  },
  {
   "cell_type": "markdown",
   "id": "46950f4f",
   "metadata": {},
   "source": [
    "#### 2. Convert a list of numeric value into a one-dimensional NumPy array (★☆☆)\n",
    "`💡 hint: numpy.array`"
   ]
  },
  {
   "cell_type": "code",
   "execution_count": 4,
   "id": "9b0e875f",
   "metadata": {},
   "outputs": [
    {
     "name": "stdout",
     "output_type": "stream",
     "text": [
      "[[9. 8. 7.]\n",
      " [6. 5. 4.]]\n"
     ]
    }
   ],
   "source": [
    "a= np.array([[9.0,8.0,7.0],[6.0,5.0,4.0]])\n",
    "print(a)"
   ]
  },
  {
   "cell_type": "markdown",
   "id": "e3c20b3d",
   "metadata": {},
   "source": [
    "#### 3. Create a null vector of size 9 (★☆☆)\n",
    "`💡 hint: np.zeros`"
   ]
  },
  {
   "cell_type": "code",
   "execution_count": 6,
   "id": "96d0b63e",
   "metadata": {},
   "outputs": [
    {
     "name": "stdout",
     "output_type": "stream",
     "text": [
      "[0. 0. 0. 0. 0. 0. 0. 0. 0.]\n"
     ]
    }
   ],
   "source": [
    "temp = np.zeros(9)\n",
    "print(temp)"
   ]
  },
  {
   "cell_type": "markdown",
   "id": "b15a879f",
   "metadata": {},
   "source": [
    "#### 4. How to find the memory size of any array (★☆☆)\n",
    "`💡 hint: size, itemsize`"
   ]
  },
  {
   "cell_type": "code",
   "execution_count": 12,
   "id": "32f9025c",
   "metadata": {},
   "outputs": [
    {
     "name": "stdout",
     "output_type": "stream",
     "text": [
      "20\n",
      "8\n",
      "160 bytes\n"
     ]
    }
   ],
   "source": [
    "Z = np.zeros((5,4))\n",
    "print(Z.size)\n",
    "print(Z.itemsize)\n",
    "print(\"%d bytes\" % (Z.size * Z.itemsize))"
   ]
  },
  {
   "cell_type": "markdown",
   "id": "0a708990",
   "metadata": {},
   "source": [
    "#### 5. How to get the documentation of the numpy add function from the command line? (★☆☆)\n",
    "`💡hint: np.info`"
   ]
  },
  {
   "cell_type": "code",
   "execution_count": 15,
   "id": "d254eea5",
   "metadata": {},
   "outputs": [
    {
     "name": "stdout",
     "output_type": "stream",
     "text": [
      "add(x1, x2, /, out=None, *, where=True, casting='same_kind', order='K', dtype=None, subok=True[, signature, extobj])\n",
      "\n",
      "Add arguments element-wise.\n",
      "\n",
      "Parameters\n",
      "----------\n",
      "x1, x2 : array_like\n",
      "    The arrays to be added.\n",
      "    If ``x1.shape != x2.shape``, they must be broadcastable to a common\n",
      "    shape (which becomes the shape of the output).\n",
      "out : ndarray, None, or tuple of ndarray and None, optional\n",
      "    A location into which the result is stored. If provided, it must have\n",
      "    a shape that the inputs broadcast to. If not provided or None,\n",
      "    a freshly-allocated array is returned. A tuple (possible only as a\n",
      "    keyword argument) must have length equal to the number of outputs.\n",
      "where : array_like, optional\n",
      "    This condition is broadcast over the input. At locations where the\n",
      "    condition is True, the `out` array will be set to the ufunc result.\n",
      "    Elsewhere, the `out` array will retain its original value.\n",
      "    Note that if an uninitialized `out` array is created via the default\n",
      "    ``out=None``, locations within it where the condition is False will\n",
      "    remain uninitialized.\n",
      "**kwargs\n",
      "    For other keyword-only arguments, see the\n",
      "    :ref:`ufunc docs <ufuncs.kwargs>`.\n",
      "\n",
      "Returns\n",
      "-------\n",
      "add : ndarray or scalar\n",
      "    The sum of `x1` and `x2`, element-wise.\n",
      "    This is a scalar if both `x1` and `x2` are scalars.\n",
      "\n",
      "Notes\n",
      "-----\n",
      "Equivalent to `x1` + `x2` in terms of array broadcasting.\n",
      "\n",
      "Examples\n",
      "--------\n",
      ">>> np.add(1.0, 4.0)\n",
      "5.0\n",
      ">>> x1 = np.arange(9.0).reshape((3, 3))\n",
      ">>> x2 = np.arange(3.0)\n",
      ">>> np.add(x1, x2)\n",
      "array([[  0.,   2.,   4.],\n",
      "       [  3.,   5.,   7.],\n",
      "       [  6.,   8.,  10.]])\n",
      "\n",
      "The ``+`` operator can be used as a shorthand for ``np.add`` on ndarrays.\n",
      "\n",
      ">>> x1 = np.arange(9.0).reshape((3, 3))\n",
      ">>> x2 = np.arange(3.0)\n",
      ">>> x1 + x2\n",
      "array([[ 0.,  2.,  4.],\n",
      "       [ 3.,  5.,  7.],\n",
      "       [ 6.,  8., 10.]])\n"
     ]
    }
   ],
   "source": [
    "np.info(np.add)"
   ]
  },
  {
   "cell_type": "markdown",
   "id": "0b16cd77",
   "metadata": {},
   "source": [
    "#### 6. Create a null vector of size 12 but the sixth value which is 1 (★☆☆)\n",
    "`💡hint: array[12]`"
   ]
  },
  {
   "cell_type": "code",
   "execution_count": 16,
   "id": "05223560",
   "metadata": {},
   "outputs": [
    {
     "name": "stdout",
     "output_type": "stream",
     "text": [
      "[0. 0. 0. 0. 0. 1. 0. 0. 0. 0.]\n"
     ]
    }
   ],
   "source": [
    "temp = np.zeros(10)\n",
    "temp[5] = 1\n",
    "print(temp)"
   ]
  },
  {
   "cell_type": "markdown",
   "id": "782d4c77",
   "metadata": {},
   "source": [
    "#### 7. Create a vector with values ranging from 20 to 59 (★☆☆)\n",
    "`💡hint: arange`"
   ]
  },
  {
   "cell_type": "code",
   "execution_count": 17,
   "id": "7250d114",
   "metadata": {},
   "outputs": [
    {
     "name": "stdout",
     "output_type": "stream",
     "text": [
      "[20 21 22 23 24 25 26 27 28 29 30 31 32 33 34 35 36 37 38 39 40 41 42 43\n",
      " 44 45 46 47 48 49 50 51 52 53 54 55 56 57 58]\n"
     ]
    }
   ],
   "source": [
    "temp = np.arange(20,59)\n",
    "print(temp)"
   ]
  },
  {
   "cell_type": "markdown",
   "id": "48d48f01",
   "metadata": {},
   "source": [
    "#### 8. Reverse a vector (first element becomes last) (★☆☆)\n",
    "`💡hint: array[::-1]`"
   ]
  },
  {
   "cell_type": "code",
   "execution_count": 18,
   "id": "fb702ae0",
   "metadata": {},
   "outputs": [
    {
     "name": "stdout",
     "output_type": "stream",
     "text": [
      "[58 57 56 55 54 53 52 51 50 49 48 47 46 45 44 43 42 41 40 39 38 37 36 35\n",
      " 34 33 32 31 30 29 28 27 26 25 24 23 22 21 20]\n"
     ]
    }
   ],
   "source": [
    "temp = np.arange(20,59)\n",
    "temp = temp[::-1]\n",
    "print(temp)"
   ]
  },
  {
   "cell_type": "markdown",
   "id": "4fa39382",
   "metadata": {},
   "source": [
    "#### 9. Create a 3x3 matrix with values ranging from 12 to 20 (★☆☆)\n",
    "`💡hint: reshape`"
   ]
  },
  {
   "cell_type": "code",
   "execution_count": 26,
   "id": "97e6be92",
   "metadata": {},
   "outputs": [
    {
     "name": "stdout",
     "output_type": "stream",
     "text": [
      "[[12 13 14]\n",
      " [15 16 17]\n",
      " [18 19 20]]\n",
      "[[12 13 14]\n",
      " [15 16 17]\n",
      " [18 19 20]]\n"
     ]
    }
   ],
   "source": [
    "#法一：\n",
    "temp = np.arange(12,21)\n",
    "temp = temp.reshape(3,3)\n",
    "print(temp)\n",
    "#法二：\n",
    "temp = np.arange(12,21).reshape(3,3)\n",
    "print(temp)"
   ]
  },
  {
   "cell_type": "markdown",
   "id": "da64551a",
   "metadata": {},
   "source": [
    "#### 10. Find indices of non-zero elements from [3,7,0,0,9,0] (★☆☆)\n",
    "`💡hint: np.nonzero`"
   ]
  },
  {
   "cell_type": "code",
   "execution_count": 27,
   "id": "322b2b68",
   "metadata": {},
   "outputs": [
    {
     "name": "stdout",
     "output_type": "stream",
     "text": [
      "(array([0, 1, 4], dtype=int64),)\n"
     ]
    }
   ],
   "source": [
    "temp = np.nonzero([3,7,0,0,9,0])\n",
    "print(temp)"
   ]
  },
  {
   "cell_type": "markdown",
   "id": "f89d9c9e",
   "metadata": {},
   "source": [
    "#### 11. Create a 4x4 identity matrix (★☆☆)\n",
    "`💡hint: np.eye`"
   ]
  },
  {
   "cell_type": "code",
   "execution_count": 3,
   "id": "5717e1c1",
   "metadata": {},
   "outputs": [
    {
     "name": "stdout",
     "output_type": "stream",
     "text": [
      "[[1. 0. 0. 0.]\n",
      " [0. 1. 0. 0.]\n",
      " [0. 0. 1. 0.]\n",
      " [0. 0. 0. 1.]]\n"
     ]
    }
   ],
   "source": [
    "import numpy as np\n",
    "A = np.eye(4)\n",
    "print(A)"
   ]
  },
  {
   "cell_type": "markdown",
   "id": "7e44c6fa",
   "metadata": {},
   "source": [
    "#### 12. Create a 2x2x2 array with random values (★☆☆)\n",
    "`💡hint: np.random.random`"
   ]
  },
  {
   "cell_type": "code",
   "execution_count": 4,
   "id": "c8fd52e1",
   "metadata": {},
   "outputs": [
    {
     "name": "stdout",
     "output_type": "stream",
     "text": [
      "[[[0.88379833 0.92661489 0.08297539]\n",
      "  [0.21319236 0.52925215 0.90752133]\n",
      "  [0.46985242 0.20223336 0.85059323]]\n",
      "\n",
      " [[0.03010435 0.40620285 0.70270853]\n",
      "  [0.13699191 0.28463663 0.361108  ]\n",
      "  [0.20350228 0.53278035 0.89335557]]\n",
      "\n",
      " [[0.79378783 0.0915685  0.28744761]\n",
      "  [0.22988523 0.80824762 0.15560569]\n",
      "  [0.68770328 0.04746391 0.65231035]]]\n"
     ]
    }
   ],
   "source": [
    "A = np.random.random((3,3,3))\n",
    "print(A)"
   ]
  },
  {
   "cell_type": "markdown",
   "id": "13c5928c",
   "metadata": {},
   "source": [
    "#### 13. Create a 9x9 array with random values and find the minimum and maximum values (★☆☆)\n",
    "`💡hint: min, max`"
   ]
  },
  {
   "cell_type": "code",
   "execution_count": 5,
   "id": "0ede4d26",
   "metadata": {},
   "outputs": [
    {
     "name": "stdout",
     "output_type": "stream",
     "text": [
      "[[0.41397825 0.55597981 0.16207619 0.67370945 0.37590578 0.13991672\n",
      "  0.71334705 0.35375578 0.78763044]\n",
      " [0.6410795  0.89521866 0.91470822 0.49777953 0.1780842  0.77473731\n",
      "  0.9770503  0.21200946 0.97070716]\n",
      " [0.96176266 0.37882464 0.19738128 0.69518829 0.62338116 0.87615978\n",
      "  0.29938509 0.85614718 0.84379104]\n",
      " [0.35353753 0.49654074 0.87358075 0.49228259 0.80237989 0.88432745\n",
      "  0.1031724  0.38788905 0.60652516]\n",
      " [0.88343608 0.0986526  0.23398212 0.74671583 0.49439353 0.21049719\n",
      "  0.30564269 0.28200557 0.8483483 ]\n",
      " [0.53433922 0.50375028 0.13164089 0.06754686 0.41875647 0.71670788\n",
      "  0.20096159 0.91476983 0.65510455]\n",
      " [0.63134301 0.51212003 0.66346207 0.97535378 0.44567899 0.83341642\n",
      "  0.46255058 0.71212147 0.23458988]\n",
      " [0.60059394 0.96244122 0.97799951 0.22048314 0.97144009 0.96300265\n",
      "  0.13791179 0.1832428  0.08546593]\n",
      " [0.8705122  0.49794708 0.51242667 0.95013533 0.8934199  0.13706188\n",
      "  0.71075313 0.52687154 0.4117189 ]]\n",
      "[0.96176266 0.96244122 0.97799951 0.97535378 0.97144009 0.96300265\n",
      " 0.9770503  0.91476983 0.97070716] [0.13991672 0.1780842  0.19738128 0.1031724  0.0986526  0.06754686\n",
      " 0.23458988 0.08546593 0.13706188]\n"
     ]
    }
   ],
   "source": [
    "import numpy as np\n",
    "temp = np.random.random((9,9))\n",
    "print(temp)\n",
    "max=np.max(temp,axis=0)\n",
    "min=np.min(temp,axis=1)\n",
    "print(max,min)"
   ]
  },
  {
   "cell_type": "markdown",
   "id": "3fa2e461",
   "metadata": {},
   "source": [
    "#### 14. Create a random vector of size 20 and find the mean value (★☆☆)\n",
    "`💡hint: mean`"
   ]
  },
  {
   "cell_type": "code",
   "execution_count": 14,
   "id": "c0048e59",
   "metadata": {},
   "outputs": [
    {
     "name": "stdout",
     "output_type": "stream",
     "text": [
      "[0.184525   0.41840993 0.57640423 0.30484465 0.92977111 0.97330073\n",
      " 0.66483398 0.85768503 0.44024439 0.89047006 0.38114114 0.82242676\n",
      " 0.83250254 0.6446475  0.02719464 0.21317614 0.27301753 0.00705305\n",
      " 0.54358415 0.11479762]\n",
      "0.5050015084467037\n"
     ]
    }
   ],
   "source": [
    "A = np.random.random(20)\n",
    "print(A)\n",
    "m = A.mean()\n",
    "print(m)"
   ]
  },
  {
   "cell_type": "markdown",
   "id": "73f7a549",
   "metadata": {},
   "source": [
    "#### 15. Create a 2d array with 1 on the border and 0 inside (★☆☆)\n",
    "`💡hint: array[1:-1, 1:-1]`"
   ]
  },
  {
   "cell_type": "code",
   "execution_count": 5,
   "id": "351ff928",
   "metadata": {},
   "outputs": [
    {
     "name": "stdout",
     "output_type": "stream",
     "text": [
      "[[1. 1. 1. 1. 1. 1. 1. 1. 1. 1.]\n",
      " [1. 0. 0. 0. 0. 0. 0. 0. 0. 1.]\n",
      " [1. 0. 0. 0. 0. 0. 0. 0. 0. 1.]\n",
      " [1. 0. 0. 0. 0. 0. 0. 0. 0. 1.]\n",
      " [1. 0. 0. 0. 0. 0. 0. 0. 0. 1.]\n",
      " [1. 0. 0. 0. 0. 0. 0. 0. 0. 1.]\n",
      " [1. 0. 0. 0. 0. 0. 0. 0. 0. 1.]\n",
      " [1. 0. 0. 0. 0. 0. 0. 0. 0. 1.]\n",
      " [1. 0. 0. 0. 0. 0. 0. 0. 0. 1.]\n",
      " [1. 1. 1. 1. 1. 1. 1. 1. 1. 1.]]\n",
      "[[1. 1. 1. 1. 1. 1. 1. 1. 1. 1.]\n",
      " [1. 0. 0. 0. 0. 0. 0. 0. 0. 1.]\n",
      " [1. 0. 0. 0. 0. 0. 0. 0. 0. 1.]\n",
      " [1. 0. 0. 0. 0. 0. 0. 0. 0. 1.]\n",
      " [1. 0. 0. 0. 0. 0. 0. 0. 0. 1.]\n",
      " [1. 0. 0. 0. 0. 0. 0. 0. 0. 1.]\n",
      " [1. 0. 0. 0. 0. 0. 0. 0. 0. 1.]\n",
      " [1. 0. 0. 0. 0. 0. 0. 0. 0. 1.]\n",
      " [1. 0. 0. 0. 0. 0. 0. 0. 0. 1.]\n",
      " [1. 1. 1. 1. 1. 1. 1. 1. 1. 1.]]\n"
     ]
    }
   ],
   "source": [
    "# 方法一\n",
    "import numpy as np\n",
    "A= np.zeros([10,10])\n",
    "A[0,:],A[-1,:],A[:,0],A[:,-1] = 1,1,1,1\n",
    "print(A)\n",
    "# 方法二\n",
    "B = np.ones((10,10))\n",
    "B[1:-1,1:-1] = 0\n",
    "print(B)"
   ]
  },
  {
   "cell_type": "markdown",
   "id": "6d0c506f",
   "metadata": {},
   "source": [
    "#### 16. How to add a border (filled with 0's) around an existing array? (★☆☆)\n",
    "`💡hint: np.pad`"
   ]
  },
  {
   "cell_type": "code",
   "execution_count": 10,
   "id": "c1cc1143",
   "metadata": {},
   "outputs": [
    {
     "name": "stdout",
     "output_type": "stream",
     "text": [
      "[[0. 0. 0. 0. 0. 0. 0.]\n",
      " [0. 1. 1. 1. 1. 1. 0.]\n",
      " [0. 1. 1. 1. 1. 1. 0.]\n",
      " [0. 1. 1. 1. 1. 1. 0.]\n",
      " [0. 1. 1. 1. 1. 1. 0.]\n",
      " [0. 1. 1. 1. 1. 1. 0.]\n",
      " [0. 0. 0. 0. 0. 0. 0.]]\n"
     ]
    }
   ],
   "source": [
    "A = np.ones((5,5))\n",
    "A = np.pad(A, pad_width=1, mode='constant', constant_values=0)\n",
    "print(A)"
   ]
  },
  {
   "cell_type": "markdown",
   "id": "d6ad1a9f",
   "metadata": {},
   "source": [
    "#### 17. What is the result of the following expression? (★☆☆)\n",
    "```python\n",
    "0 * np.nan\n",
    "np.nan == np.nan\n",
    "np.inf > np.nan\n",
    "np.nan - np.nan\n",
    "np.nan in set([np.nan])\n",
    "0.7 == 7 * 0.1\n",
    "```\n",
    "`💡hint: NaN = not a number, inf = infinity`"
   ]
  },
  {
   "cell_type": "code",
   "execution_count": 11,
   "id": "7ba3c441",
   "metadata": {},
   "outputs": [
    {
     "name": "stdout",
     "output_type": "stream",
     "text": [
      "nan\n",
      "False\n",
      "False\n",
      "nan\n",
      "True\n",
      "False\n"
     ]
    }
   ],
   "source": [
    "print(0 * np.nan)\n",
    "print(np.nan == np.nan)\n",
    "print(np.inf > np.nan)\n",
    "print(np.nan - np.nan)\n",
    "print(np.nan in set([np.nan]))\n",
    "print(0.3 == 3 * 0.1)"
   ]
  },
  {
   "cell_type": "markdown",
   "id": "e3a7ba7f",
   "metadata": {},
   "source": [
    "#### 18. Create a 6x6 matrix with values 1,2,3,4 just below the diagonal (★☆☆)\n",
    "`💡hint: np.diag`"
   ]
  },
  {
   "cell_type": "code",
   "execution_count": 12,
   "id": "b874734e",
   "metadata": {},
   "outputs": [
    {
     "name": "stdout",
     "output_type": "stream",
     "text": [
      "[[0 0 0 0 0 0]\n",
      " [1 0 0 0 0 0]\n",
      " [0 2 0 0 0 0]\n",
      " [0 0 3 0 0 0]\n",
      " [0 0 0 4 0 0]\n",
      " [0 0 0 0 5 0]]\n"
     ]
    }
   ],
   "source": [
    "A = np.diag(1+np.arange(5),k=-1)\n",
    "print(A)"
   ]
  },
  {
   "cell_type": "markdown",
   "id": "6d17ab5d",
   "metadata": {},
   "source": [
    "#### 19. Create a 6x6 matrix and fill it with a checkerboard pattern (★☆☆)\n",
    "`💡hint: array[::2]`"
   ]
  },
  {
   "cell_type": "code",
   "execution_count": 14,
   "id": "4c4e2c5e",
   "metadata": {},
   "outputs": [
    {
     "name": "stdout",
     "output_type": "stream",
     "text": [
      "[[0 1 0 1 0 1]\n",
      " [1 0 1 0 1 0]\n",
      " [0 1 0 1 0 1]\n",
      " [1 0 1 0 1 0]\n",
      " [0 1 0 1 0 1]\n",
      " [1 0 1 0 1 0]]\n"
     ]
    }
   ],
   "source": [
    "A = np.zeros((6,6),dtype=int)\n",
    "A[1::2,::2] = 1#从第一行，到最后一行，中间间隔两行；中间间隔两列\n",
    "A[::2,1::2] = 1\n",
    "print(A)"
   ]
  },
  {
   "cell_type": "markdown",
   "id": "8837119b",
   "metadata": {},
   "source": [
    "#### 20. Consider a (8,9,10) shape array, what is the index (x,y,z) of the 100th element? (★☆☆)\n",
    "`💡hint: np.unravel_index`"
   ]
  },
  {
   "cell_type": "code",
   "execution_count": 21,
   "id": "2b05c544",
   "metadata": {},
   "outputs": [
    {
     "name": "stdout",
     "output_type": "stream",
     "text": [
      "(1, 1, 0)\n"
     ]
    }
   ],
   "source": [
    "print(np.unravel_index(100,(8,9,10)))"
   ]
  },
  {
   "cell_type": "markdown",
   "id": "ec788c9f",
   "metadata": {},
   "source": [
    "#### 21. Create a checkerboard 8x8 matrix using the tile function (★☆☆)\n",
    "`💡hint: np.tile`"
   ]
  },
  {
   "cell_type": "code",
   "execution_count": 23,
   "id": "c3980b2c",
   "metadata": {},
   "outputs": [
    {
     "name": "stdout",
     "output_type": "stream",
     "text": [
      "[[0 1]\n",
      " [1 0]]\n",
      "[[0 1 0 1 0 1 0 1 0 1 0 1 0 1 0 1]\n",
      " [1 0 1 0 1 0 1 0 1 0 1 0 1 0 1 0]\n",
      " [0 1 0 1 0 1 0 1 0 1 0 1 0 1 0 1]\n",
      " [1 0 1 0 1 0 1 0 1 0 1 0 1 0 1 0]\n",
      " [0 1 0 1 0 1 0 1 0 1 0 1 0 1 0 1]\n",
      " [1 0 1 0 1 0 1 0 1 0 1 0 1 0 1 0]\n",
      " [0 1 0 1 0 1 0 1 0 1 0 1 0 1 0 1]\n",
      " [1 0 1 0 1 0 1 0 1 0 1 0 1 0 1 0]\n",
      " [0 1 0 1 0 1 0 1 0 1 0 1 0 1 0 1]\n",
      " [1 0 1 0 1 0 1 0 1 0 1 0 1 0 1 0]\n",
      " [0 1 0 1 0 1 0 1 0 1 0 1 0 1 0 1]\n",
      " [1 0 1 0 1 0 1 0 1 0 1 0 1 0 1 0]\n",
      " [0 1 0 1 0 1 0 1 0 1 0 1 0 1 0 1]\n",
      " [1 0 1 0 1 0 1 0 1 0 1 0 1 0 1 0]\n",
      " [0 1 0 1 0 1 0 1 0 1 0 1 0 1 0 1]\n",
      " [1 0 1 0 1 0 1 0 1 0 1 0 1 0 1 0]]\n",
      "[[0 1 0 1 0 1 0 1 0 1 0 1 0 1 0 1]\n",
      " [1 0 1 0 1 0 1 0 1 0 1 0 1 0 1 0]\n",
      " [0 1 0 1 0 1 0 1 0 1 0 1 0 1 0 1]\n",
      " [1 0 1 0 1 0 1 0 1 0 1 0 1 0 1 0]\n",
      " [0 1 0 1 0 1 0 1 0 1 0 1 0 1 0 1]\n",
      " [1 0 1 0 1 0 1 0 1 0 1 0 1 0 1 0]\n",
      " [0 1 0 1 0 1 0 1 0 1 0 1 0 1 0 1]\n",
      " [1 0 1 0 1 0 1 0 1 0 1 0 1 0 1 0]\n",
      " [0 1 0 1 0 1 0 1 0 1 0 1 0 1 0 1]\n",
      " [1 0 1 0 1 0 1 0 1 0 1 0 1 0 1 0]\n",
      " [0 1 0 1 0 1 0 1 0 1 0 1 0 1 0 1]\n",
      " [1 0 1 0 1 0 1 0 1 0 1 0 1 0 1 0]\n",
      " [0 1 0 1 0 1 0 1 0 1 0 1 0 1 0 1]\n",
      " [1 0 1 0 1 0 1 0 1 0 1 0 1 0 1 0]\n",
      " [0 1 0 1 0 1 0 1 0 1 0 1 0 1 0 1]\n",
      " [1 0 1 0 1 0 1 0 1 0 1 0 1 0 1 0]]\n"
     ]
    }
   ],
   "source": [
    "temp = np.array([[0,1],[1,0]])\n",
    "print(temp)\n",
    "A = np.tile(temp, (8,8))#将数组沿着X轴Y轴都扩大8倍\n",
    "print(A)\n",
    "\n",
    "B = np.tile(np.array([[0,1],[1,0]]),(8,8))    \n",
    "print(B)"
   ]
  },
  {
   "cell_type": "markdown",
   "id": "391791e0",
   "metadata": {},
   "source": [
    "#### 22. Normalize a 6x6 random matrix (★☆☆)\n",
    "`💡hint: (x -mean)/std`"
   ]
  },
  {
   "cell_type": "code",
   "execution_count": 25,
   "id": "ada71c06",
   "metadata": {},
   "outputs": [
    {
     "name": "stdout",
     "output_type": "stream",
     "text": [
      "[[0.12162433 0.53908888 0.20537971 0.50176136 0.97011421]\n",
      " [0.58366341 0.20725358 0.92669256 0.50992877 0.46244104]\n",
      " [0.6627252  0.1829648  0.90122972 0.78081289 0.27942447]\n",
      " [0.89622719 0.33353791 0.98676206 0.29129584 0.83520472]\n",
      " [0.28906212 0.16789376 0.95895811 0.16240395 0.54968322]]\n",
      "[[-1.39126953  0.02318729 -1.10748886 -0.10328612  1.48359087]\n",
      " [ 0.17421508 -1.10113977  1.33646925 -0.07561321 -0.23651155]\n",
      " [ 0.44209291 -1.18343523  1.25019585  0.84219856 -0.85660979]\n",
      " [ 1.23324623 -0.67326218  1.53999722 -0.81638712  1.0264894 ]\n",
      " [-0.8239554  -1.23449905  1.44579168 -1.25309965  0.05908314]]\n"
     ]
    }
   ],
   "source": [
    "temp = np.random.random((5,5))\n",
    "print(temp)\n",
    "#np.std()：计算全局标准差\n",
    "A = (temp-np.mean(temp))/np.std(temp)\n",
    "print(A)"
   ]
  },
  {
   "cell_type": "markdown",
   "id": "1e74d39e",
   "metadata": {},
   "source": [
    "#### 23. find the number of elements of an array, length of one array element in bytes and total bytes consumed by the elements. (★☆☆)"
   ]
  },
  {
   "cell_type": "code",
   "execution_count": null,
   "id": "eb0e066c",
   "metadata": {},
   "outputs": [],
   "source": []
  },
  {
   "cell_type": "markdown",
   "id": "78250c14",
   "metadata": {},
   "source": [
    "#### 24. Multiply a 6x3 matrix by a 3x4 matrix (real matrix product) (★☆☆)\n",
    "`💡hint: np.dot` or `np.ones`"
   ]
  },
  {
   "cell_type": "code",
   "execution_count": 6,
   "id": "2e482afe",
   "metadata": {},
   "outputs": [
    {
     "name": "stdout",
     "output_type": "stream",
     "text": [
      "[[1.13671947 0.85768089 0.91902529 1.73177443]\n",
      " [1.06373666 0.80001844 0.93450469 1.38381377]\n",
      " [0.26546905 0.33054023 0.19760511 0.45549336]\n",
      " [0.8975037  0.71751201 0.80202548 1.12344805]\n",
      " [0.44003007 0.20954529 0.40147944 0.52789753]\n",
      " [0.88796691 0.82900314 0.68323583 1.45930659]]\n",
      "[[3. 3. 3. 3.]\n",
      " [3. 3. 3. 3.]\n",
      " [3. 3. 3. 3.]\n",
      " [3. 3. 3. 3.]\n",
      " [3. 3. 3. 3.]\n",
      " [3. 3. 3. 3.]]\n"
     ]
    }
   ],
   "source": [
    "print(np.dot(np.random.random((6,3)),np.random.random((3,4))))\n",
    "print(np.ones((6,3)) @ np.ones((3,4)))"
   ]
  },
  {
   "cell_type": "markdown",
   "id": "51898680",
   "metadata": {},
   "source": [
    "#### 25. Given a 1D array, negate all elements which are between 3 and 8, in place. (★☆☆)\n",
    "`💡hint: >, <`"
   ]
  },
  {
   "cell_type": "code",
   "execution_count": 28,
   "id": "ee92ccaf",
   "metadata": {},
   "outputs": [
    {
     "name": "stdout",
     "output_type": "stream",
     "text": [
      "[ 0  1  2  3 -4 -5 -6 -7  8  9 10]\n"
     ]
    }
   ],
   "source": [
    "# Author: Evgeni Burovski\n",
    "A = np.arange(11)\n",
    "A[(3 < A) & (A < 8)] *= -1\n",
    "print(A)"
   ]
  },
  {
   "cell_type": "markdown",
   "id": "89e78048",
   "metadata": {},
   "source": [
    "#### 26. What is the output of the following script? (★☆☆)\n",
    "```python\n",
    "\n",
    "print(sum(range(5),-1))\n",
    "from numpy import *\n",
    "print(sum(range(5),-1))\n",
    "```"
   ]
  },
  {
   "cell_type": "code",
   "execution_count": 30,
   "id": "8026c969",
   "metadata": {},
   "outputs": [
    {
     "name": "stdout",
     "output_type": "stream",
     "text": [
      "10\n",
      "10\n"
     ]
    }
   ],
   "source": [
    "print(sum(range(5),-1))\n",
    "from numpy import *\n",
    "print(sum(range(5),-1))"
   ]
  },
  {
   "cell_type": "markdown",
   "id": "ebd10810",
   "metadata": {},
   "source": [
    "#### 27. Write a Python program compare two arrays using numpy (★☆☆)\n",
    "```python\n",
    "Array a: [1 2]\n",
    "Array b: [4 5]\n",
    "a > b \n",
    "[False False]\n",
    "a >= b \n",
    "[False False] \n",
    "a < b \n",
    "[ True True] \n",
    "a <= b \n",
    "[ True True]\n",
    "```"
   ]
  },
  {
   "cell_type": "code",
   "execution_count": null,
   "id": "90fed5c6",
   "metadata": {},
   "outputs": [],
   "source": []
  },
  {
   "cell_type": "markdown",
   "id": "c0e940f8",
   "metadata": {},
   "source": [
    "#### 28. What are the result of the following expressions? (★☆☆)\n",
    "```python\n",
    "np.array(0) / np.array(0)\n",
    "np.array(0) // np.array(0)\n",
    "np.array([np.nan]).astype(int).astype(float)\n",
    "```\n",
    "Consider an integer vector a\n",
    "```python\n",
    "a**a\n",
    "a << a >> 2\n",
    "a <- a\n",
    "1j*a\n",
    "a/1/1\n",
    "a<a>a\n",
    "```"
   ]
  },
  {
   "cell_type": "code",
   "execution_count": 33,
   "id": "50d84cdf",
   "metadata": {},
   "outputs": [
    {
     "name": "stdout",
     "output_type": "stream",
     "text": [
      "nan\n",
      "0\n",
      "[-2.14748365e+09]\n"
     ]
    },
    {
     "name": "stderr",
     "output_type": "stream",
     "text": [
      "<ipython-input-33-2a10de0ee61b>:1: RuntimeWarning: invalid value encountered in true_divide\n",
      "  print(np.array(0) / np.array(0))\n",
      "<ipython-input-33-2a10de0ee61b>:2: RuntimeWarning: divide by zero encountered in floor_divide\n",
      "  print(np.array(0) // np.array(0))\n"
     ]
    }
   ],
   "source": [
    "print(np.array(0) / np.array(0))\n",
    "print(np.array(0) // np.array(0))\n",
    "print(np.array([np.nan]).astype(int).astype(float))"
   ]
  },
  {
   "cell_type": "markdown",
   "id": "22713c3f",
   "metadata": {},
   "source": [
    "#### 29. How to round away from zero a float array ? (★☆☆)\n",
    "`💡hint: np.uniform, np.copysign, np.ceil, np.abs, np.where`"
   ]
  },
  {
   "cell_type": "code",
   "execution_count": 34,
   "id": "85ebdda9",
   "metadata": {},
   "outputs": [
    {
     "name": "stdout",
     "output_type": "stream",
     "text": [
      "[-6.31893475 -4.98043352 -5.22924972  6.36667368 -9.33992023  1.89286465\n",
      " -9.40580698 -7.91190688  8.43878805  3.28654644]\n",
      "[ -7.  -5.  -6.   7. -10.   2. -10.  -8.   9.   4.]\n",
      "[ -7.  -5.  -6.   7. -10.   2. -10.  -8.   9.   4.]\n"
     ]
    }
   ],
   "source": [
    "A = np.random.uniform(-10,+10,10)\n",
    "print(A)\n",
    "print(np.copysign(np.ceil(np.abs(A)), A))\n",
    "print(np.where(A>0, np.ceil(A), np.floor(A)))"
   ]
  },
  {
   "cell_type": "markdown",
   "id": "f1ae2c2d",
   "metadata": {},
   "source": [
    "#### 30. How to find common values between two arrays? (★☆☆)\n",
    "`💡hint: np.intersect1d`"
   ]
  },
  {
   "cell_type": "code",
   "execution_count": 40,
   "id": "097482ad",
   "metadata": {},
   "outputs": [
    {
     "name": "stdout",
     "output_type": "stream",
     "text": [
      "[9 8 4 7 9 1 3 8 8 7] [2 3 5 0 7 5 0 9 5 7]\n",
      "[3 7 9]\n"
     ]
    }
   ],
   "source": [
    "A1 = np.random.randint(0,10,10)\n",
    "A2 = np.random.randint(0,10,10)\n",
    "print(A1,A2)\n",
    "print(np.intersect1d(A1,A2))"
   ]
  },
  {
   "cell_type": "markdown",
   "id": "34a7bdee",
   "metadata": {},
   "source": [
    "#### 31. How to ignore all numpy warnings (not recommended)? (★☆☆)\n",
    "`💡hint: np.seterr, np.errstate`"
   ]
  },
  {
   "cell_type": "code",
   "execution_count": 38,
   "id": "95ba8c7d",
   "metadata": {},
   "outputs": [],
   "source": [
    "defaults = np.seterr(all=\"ignore\")\n",
    "Z = np.ones(1) / 0\n",
    "_ = np.seterr(**defaults)\n",
    "with np.errstate(all=\"ignore\"):\n",
    "    np.arange(3) / 0"
   ]
  },
  {
   "cell_type": "markdown",
   "id": "37bc0973",
   "metadata": {},
   "source": [
    "#### 32. Is the following expressions true? (★☆☆)\n",
    "```python\n",
    "np.sqrt(-1) == np.emath.sqrt(-1)\n",
    "```\n",
    "`💡hint: imaginary number`"
   ]
  },
  {
   "cell_type": "code",
   "execution_count": 39,
   "id": "6925e9db",
   "metadata": {},
   "outputs": [
    {
     "name": "stdout",
     "output_type": "stream",
     "text": [
      "False\n"
     ]
    },
    {
     "name": "stderr",
     "output_type": "stream",
     "text": [
      "<ipython-input-39-c6ff0ad7fd7b>:1: RuntimeWarning: invalid value encountered in sqrt\n",
      "  print(np.sqrt(-1) == np.emath.sqrt(-1))\n"
     ]
    }
   ],
   "source": [
    "print(np.sqrt(-1) == np.emath.sqrt(-1))"
   ]
  },
  {
   "cell_type": "markdown",
   "id": "129c342d",
   "metadata": {},
   "source": [
    "#### 33. How to get the dates of yesterday, today and tomorrow? (★☆☆)\n",
    "`💡hint: np.datetime64, np.timedelta64`"
   ]
  },
  {
   "cell_type": "code",
   "execution_count": 42,
   "id": "0fd2f947",
   "metadata": {},
   "outputs": [
    {
     "name": "stdout",
     "output_type": "stream",
     "text": [
      "2022-04-29 2022-04-30 2022-05-01\n"
     ]
    }
   ],
   "source": [
    "yesterday = np.datetime64('today') - np.timedelta64(1)\n",
    "today     = np.datetime64('today')\n",
    "tomorrow  = np.datetime64('today') + np.timedelta64(1)\n",
    "\n",
    "print(yesterday,today,tomorrow)"
   ]
  },
  {
   "cell_type": "markdown",
   "id": "42f8b2f9",
   "metadata": {},
   "source": [
    "#### 34. How to get all the dates corresponding to the month of January 2016? (★★☆)\n",
    "`💡hint: np.arange(dtype=datetime64['D'])`"
   ]
  },
  {
   "cell_type": "code",
   "execution_count": 44,
   "id": "5ad086b0",
   "metadata": {},
   "outputs": [
    {
     "name": "stdout",
     "output_type": "stream",
     "text": [
      "['2016-07-01' '2016-07-02' '2016-07-03' '2016-07-04' '2016-07-05'\n",
      " '2016-07-06' '2016-07-07' '2016-07-08' '2016-07-09' '2016-07-10'\n",
      " '2016-07-11' '2016-07-12' '2016-07-13' '2016-07-14' '2016-07-15'\n",
      " '2016-07-16' '2016-07-17' '2016-07-18' '2016-07-19' '2016-07-20'\n",
      " '2016-07-21' '2016-07-22' '2016-07-23' '2016-07-24' '2016-07-25'\n",
      " '2016-07-26' '2016-07-27' '2016-07-28' '2016-07-29' '2016-07-30'\n",
      " '2016-07-31']\n"
     ]
    }
   ],
   "source": [
    "A = np.arange('2016-07', '2016-08', dtype='datetime64[D]')\n",
    "print(A)"
   ]
  },
  {
   "cell_type": "markdown",
   "id": "252c43e2",
   "metadata": {},
   "source": [
    "#### 35. How to compute ((A+B)*(-A/2)) in place (without copy)? (★★☆)\n",
    "`💡hint: np.add(out=), np.negative(out=), np.multiply(out=), np.divide(out=)`"
   ]
  },
  {
   "cell_type": "code",
   "execution_count": 45,
   "id": "34488d4b",
   "metadata": {},
   "outputs": [
    {
     "name": "stdout",
     "output_type": "stream",
     "text": [
      "[1. 1. 1.] [2. 2. 2.]\n",
      "[1. 1. 1.] [3. 3. 3.]\n",
      "[0.5 0.5 0.5] [3. 3. 3.]\n",
      "[-0.5 -0.5 -0.5] [3. 3. 3.]\n",
      "[-1.5 -1.5 -1.5] [3. 3. 3.]\n"
     ]
    }
   ],
   "source": [
    "A = np.ones(3)*1\n",
    "B = np.ones(3)*2\n",
    "print(A,B)\n",
    "np.add(A,B,out=B)\n",
    "print(A,B)\n",
    "np.divide(A,2,out=A)\n",
    "print(A,B)\n",
    "np.negative(A,out=A)\n",
    "print(A,B)\n",
    "np.multiply(A,B,out=A)\n",
    "print(A,B)"
   ]
  },
  {
   "cell_type": "markdown",
   "id": "486df8ea",
   "metadata": {},
   "source": [
    "#### 36. Extract the integer part of a random array of positive numbers using 4 different methods (★★☆)\n",
    "`💡hint: %, np.floor, astype, np.trunc`"
   ]
  },
  {
   "cell_type": "code",
   "execution_count": 46,
   "id": "2680c1ca",
   "metadata": {},
   "outputs": [
    {
     "name": "stdout",
     "output_type": "stream",
     "text": [
      "[7. 8. 1. 4. 6. 2. 1. 2. 7. 1.]\n",
      "[7. 8. 1. 4. 6. 2. 1. 2. 7. 1.]\n",
      "[7. 8. 1. 4. 6. 2. 1. 2. 7. 1.]\n",
      "[7 8 1 4 6 2 1 2 7 1]\n",
      "[7. 8. 1. 4. 6. 2. 1. 2. 7. 1.]\n"
     ]
    }
   ],
   "source": [
    "A = np.random.uniform(0,10,10)\n",
    "\n",
    "print(A - A%1)\n",
    "print(A // 1)\n",
    "print(np.floor(A))\n",
    "print(A.astype(int))\n",
    "print(np.trunc(A))"
   ]
  },
  {
   "cell_type": "markdown",
   "id": "649e89f9",
   "metadata": {},
   "source": [
    "#### 37. Create a 3x3 matrix with row values ranging from 0 to 2 (★★☆)\n",
    "`💡hint: np.arange`"
   ]
  },
  {
   "cell_type": "code",
   "execution_count": 9,
   "id": "e832212f",
   "metadata": {},
   "outputs": [
    {
     "name": "stdout",
     "output_type": "stream",
     "text": [
      "[[0 1 2 0 1 2 0 1 2]\n",
      " [0 1 2 0 1 2 0 1 2]\n",
      " [0 1 2 0 1 2 0 1 2]]\n"
     ]
    }
   ],
   "source": [
    "a = np.tile(np.arange(0, 3), (3,3))\n",
    "print(a)"
   ]
  },
  {
   "cell_type": "markdown",
   "id": "3421e17f",
   "metadata": {},
   "source": [
    "#### 38. Consider a generator function that generates 9 integers and use it to build an array (★☆☆)\n",
    "`💡hint: np.fromiter`"
   ]
  },
  {
   "cell_type": "code",
   "execution_count": 2,
   "id": "d97fcb71",
   "metadata": {},
   "outputs": [
    {
     "name": "stdout",
     "output_type": "stream",
     "text": [
      "[0. 1. 2. 3. 4. 5. 6. 7. 8.]\n"
     ]
    }
   ],
   "source": [
    "import numpy as np\n",
    "def generate():\n",
    "    for x in range(9):\n",
    "        yield x\n",
    "A = np.fromiter(generate(),dtype=float,count=-1)\n",
    "print(A)"
   ]
  },
  {
   "cell_type": "code",
   "execution_count": 5,
   "id": "faa534d5",
   "metadata": {},
   "outputs": [
    {
     "name": "stdout",
     "output_type": "stream",
     "text": [
      "[6, 8, 6, 3, 7, 5, 4, 0, 8, 7]\n"
     ]
    }
   ],
   "source": [
    "def generator():\n",
    "    while True:\n",
    "        yield (np.random.randint(10))   \n",
    "n = 0;N = []\n",
    "for g in generator():\n",
    "    N.append(g)\n",
    "    n += 1\n",
    "    if n == 10:\n",
    "        break\n",
    "print(N)"
   ]
  },
  {
   "cell_type": "markdown",
   "id": "483dd554",
   "metadata": {},
   "source": [
    "#### 39. Create a vector of size 10 with values ranging from 0 to 1, both excluded (★★☆)\n",
    "`💡hint: np.linspace`"
   ]
  },
  {
   "cell_type": "code",
   "execution_count": 3,
   "id": "572668cb",
   "metadata": {},
   "outputs": [
    {
     "name": "stdout",
     "output_type": "stream",
     "text": [
      "[0.09090909 0.18181818 0.27272727 0.36363636 0.45454545 0.54545455\n",
      " 0.63636364 0.72727273 0.81818182 0.90909091]\n"
     ]
    }
   ],
   "source": [
    "A = np.linspace(0,1,11,endpoint=False)[1:]\n",
    "print(A)"
   ]
  },
  {
   "cell_type": "markdown",
   "id": "2d07be1c",
   "metadata": {},
   "source": [
    "#### 40. Create a random vector of size 10 and sort it (★★☆)\n",
    "`💡hint: sort`"
   ]
  },
  {
   "cell_type": "code",
   "execution_count": 8,
   "id": "046a541a",
   "metadata": {},
   "outputs": [
    {
     "name": "stdout",
     "output_type": "stream",
     "text": [
      "[0.00430014 0.1867694  0.19026182 0.15647893 0.88725144 0.53954876\n",
      " 0.18815387 0.03399092 0.6232169  0.71037856]\n",
      "[0.00430014 0.03399092 0.15647893 0.1867694  0.18815387 0.19026182\n",
      " 0.53954876 0.6232169  0.71037856 0.88725144]\n"
     ]
    }
   ],
   "source": [
    "temp = np.random.random(10)\n",
    "print(temp)\n",
    "temp = np.sort(temp)\n",
    "print(temp)"
   ]
  },
  {
   "cell_type": "markdown",
   "id": "6415f02e",
   "metadata": {},
   "source": [
    "#### 41. How to sum a small array faster than np.sum? (★★☆)\n",
    "`💡hint: np.add.reduce`"
   ]
  },
  {
   "cell_type": "code",
   "execution_count": 9,
   "id": "129e785f",
   "metadata": {},
   "outputs": [
    {
     "name": "stdout",
     "output_type": "stream",
     "text": [
      "[0 1 2 3 4 5 6 7 8 9]\n"
     ]
    }
   ],
   "source": [
    "A = np.arange(10)\n",
    "np.add.reduce(A)\n",
    "print(A)"
   ]
  },
  {
   "cell_type": "markdown",
   "id": "fe043549",
   "metadata": {},
   "source": [
    "#### 42. Consider two random array A and B, check if they are equal (★★☆)\n",
    "`💡hint: np.allclose, np.array_equal`"
   ]
  },
  {
   "cell_type": "code",
   "execution_count": 15,
   "id": "7ada2e2b",
   "metadata": {},
   "outputs": [
    {
     "name": "stdout",
     "output_type": "stream",
     "text": [
      "False\n",
      "False\n"
     ]
    }
   ],
   "source": [
    "A = np.random.randint(0,2,5)\n",
    "B = np.random.randint(0,2,5)\n",
    "equal = np.allclose(A,B)\n",
    "print(equal)\n",
    "equal = np.array_equal(A,B)\n",
    "print(equal)"
   ]
  },
  {
   "cell_type": "markdown",
   "id": "cc08f71c",
   "metadata": {},
   "source": [
    "#### 43. Make an array immutable (read-only) (★★☆)\n",
    "`💡hint: flags.writeable`"
   ]
  },
  {
   "cell_type": "code",
   "execution_count": 16,
   "id": "0b91afd1",
   "metadata": {},
   "outputs": [
    {
     "ename": "ValueError",
     "evalue": "assignment destination is read-only",
     "output_type": "error",
     "traceback": [
      "\u001b[1;31m---------------------------------------------------------------------------\u001b[0m",
      "\u001b[1;31mValueError\u001b[0m                                Traceback (most recent call last)",
      "\u001b[1;32m<ipython-input-16-8542adcfa9fd>\u001b[0m in \u001b[0;36m<module>\u001b[1;34m\u001b[0m\n\u001b[0;32m      1\u001b[0m \u001b[0mA\u001b[0m \u001b[1;33m=\u001b[0m \u001b[0mnp\u001b[0m\u001b[1;33m.\u001b[0m\u001b[0mzeros\u001b[0m\u001b[1;33m(\u001b[0m\u001b[1;36m10\u001b[0m\u001b[1;33m)\u001b[0m\u001b[1;33m\u001b[0m\u001b[1;33m\u001b[0m\u001b[0m\n\u001b[0;32m      2\u001b[0m \u001b[0mA\u001b[0m\u001b[1;33m.\u001b[0m\u001b[0mflags\u001b[0m\u001b[1;33m.\u001b[0m\u001b[0mwriteable\u001b[0m \u001b[1;33m=\u001b[0m \u001b[1;32mFalse\u001b[0m\u001b[1;33m\u001b[0m\u001b[1;33m\u001b[0m\u001b[0m\n\u001b[1;32m----> 3\u001b[1;33m \u001b[0mA\u001b[0m\u001b[1;33m[\u001b[0m\u001b[1;36m0\u001b[0m\u001b[1;33m]\u001b[0m \u001b[1;33m=\u001b[0m \u001b[1;36m1\u001b[0m\u001b[1;33m\u001b[0m\u001b[1;33m\u001b[0m\u001b[0m\n\u001b[0m",
      "\u001b[1;31mValueError\u001b[0m: assignment destination is read-only"
     ]
    }
   ],
   "source": [
    "A = np.zeros(10)\n",
    "A.flags.writeable = False\n",
    "A[0] = 1"
   ]
  },
  {
   "cell_type": "markdown",
   "id": "2002cb03",
   "metadata": {},
   "source": [
    "#### 44. Consider a random 5x2 matrix representing cartesian coordinates, convert them to polar coordinates (★★☆)\n",
    "`💡hint: np.sqrt, np.arctan2`"
   ]
  },
  {
   "cell_type": "code",
   "execution_count": 21,
   "id": "fa3351c3",
   "metadata": {},
   "outputs": [
    {
     "name": "stdout",
     "output_type": "stream",
     "text": [
      "[9 7 1 0 2]\n",
      "[0 7 1 0 2]\n"
     ]
    }
   ],
   "source": [
    "a=np.random.randint(0,10,5)\n",
    "print(a)\n",
    "c=np.argmax(a)a[c]=0\n",
    "print(a)"
   ]
  },
  {
   "cell_type": "markdown",
   "id": "b7109c9f",
   "metadata": {},
   "source": [
    "#### 45. Create random vector of size 5 and replace the maximum value by 0 (★★☆)\n",
    "`💡hint: argmax`"
   ]
  },
  {
   "cell_type": "code",
   "execution_count": 30,
   "id": "89b75e6d",
   "metadata": {},
   "outputs": [
    {
     "name": "stdout",
     "output_type": "stream",
     "text": [
      "[0.3530047  0.18642132 0.079655   0.82738717 0.         0.44203398\n",
      " 0.24089959 0.17052359 0.3320956  0.66835552]\n"
     ]
    }
   ],
   "source": [
    "A = np.random.random(10)\n",
    "A[A.argmax()] = 0\n",
    "print(A)"
   ]
  },
  {
   "cell_type": "code",
   "execution_count": 35,
   "id": "c7a031bf",
   "metadata": {},
   "outputs": [
    {
     "name": "stdout",
     "output_type": "stream",
     "text": [
      "[1 5 6 8 1 8 7 0 8 5]\n",
      "[0.17179403 0.22591029 0.19199035 0.23255344 0.         0.13072539\n",
      " 0.15244045 0.31859773 0.8474287  0.46570356]\n"
     ]
    }
   ],
   "source": [
    "A = np.random.randint(0,10,10)\n",
    "A_max_index = np.argmax(A)                \n",
    "A[A_max_index] = 0\n",
    "print(A)\n",
    "A = np.random.random(10)\n",
    "A[A.argmax()] = 0                        \n",
    "print(A)"
   ]
  },
  {
   "cell_type": "markdown",
   "id": "7d3131b9",
   "metadata": {},
   "source": [
    "#### 46. Create a structured array with `x` and `y` coordinates covering the [0,1]x[0,1] area (★★☆)\n",
    "`💡hint: np.meshgrid`"
   ]
  },
  {
   "cell_type": "code",
   "execution_count": 38,
   "id": "445532d0",
   "metadata": {},
   "outputs": [
    {
     "name": "stdout",
     "output_type": "stream",
     "text": [
      "[[(0.  , 0.  ) (0.25, 0.  ) (0.5 , 0.  ) (0.75, 0.  ) (1.  , 0.  )]\n",
      " [(0.  , 0.25) (0.25, 0.25) (0.5 , 0.25) (0.75, 0.25) (1.  , 0.25)]\n",
      " [(0.  , 0.5 ) (0.25, 0.5 ) (0.5 , 0.5 ) (0.75, 0.5 ) (1.  , 0.5 )]\n",
      " [(0.  , 0.75) (0.25, 0.75) (0.5 , 0.75) (0.75, 0.75) (1.  , 0.75)]\n",
      " [(0.  , 1.  ) (0.25, 1.  ) (0.5 , 1.  ) (0.75, 1.  ) (1.  , 1.  )]]\n"
     ]
    }
   ],
   "source": [
    "A= np.zeros((5,5), [('x',float),('y',float)])\n",
    "A['x'], A['y'] = np.meshgrid(np.linspace(0,1,5),\n",
    "                             np.linspace(0,1,5))\n",
    "print(A)"
   ]
  },
  {
   "cell_type": "markdown",
   "id": "7c8c1fc5",
   "metadata": {},
   "source": [
    "#### 47. Given two arrays, X and Y, construct the Cauchy matrix C (Cij =1/(xi - yj)) (★★☆)\n",
    "`💡hint: np.subtract.outer`"
   ]
  },
  {
   "cell_type": "code",
   "execution_count": 43,
   "id": "7668afae",
   "metadata": {},
   "outputs": [
    {
     "name": "stdout",
     "output_type": "stream",
     "text": [
      "34620.61342506313\n"
     ]
    }
   ],
   "source": [
    "X = np.arange(10)\n",
    "Y = X + 0.6\n",
    "C = 1.0 / np.subtract.outer(X, Y)\n",
    "print(np.linalg.det(C))"
   ]
  },
  {
   "cell_type": "markdown",
   "id": "5795b4bd",
   "metadata": {},
   "source": [
    "#### 48. Print the minimum and maximum representable value for each numpy scalar type (★★☆)\n",
    "`💡hint: np.iinfo, np.finfo, eps`"
   ]
  },
  {
   "cell_type": "code",
   "execution_count": 44,
   "id": "f2eaddaa",
   "metadata": {},
   "outputs": [
    {
     "name": "stdout",
     "output_type": "stream",
     "text": [
      "-128\n",
      "127\n",
      "-2147483648\n",
      "2147483647\n",
      "-9223372036854775808\n",
      "9223372036854775807\n",
      "-3.4028235e+38\n",
      "3.4028235e+38\n",
      "1.1920929e-07\n",
      "-1.7976931348623157e+308\n",
      "1.7976931348623157e+308\n",
      "2.220446049250313e-16\n"
     ]
    }
   ],
   "source": [
    "for dtype in [np.int8, np.int32, np.int64]:\n",
    "   print(np.iinfo(dtype).min)\n",
    "   print(np.iinfo(dtype).max)\n",
    "for dtype in [np.float32, np.float64]:\n",
    "   print(np.finfo(dtype).min)\n",
    "   print(np.finfo(dtype).max)\n",
    "   print(np.finfo(dtype).eps)"
   ]
  },
  {
   "cell_type": "markdown",
   "id": "fb24674c",
   "metadata": {},
   "source": [
    "#### 49. How to print all the values of an array? (★★☆)\n",
    "`💡hint: np.set_printoptions`"
   ]
  },
  {
   "cell_type": "code",
   "execution_count": 46,
   "id": "9bdfaefe",
   "metadata": {},
   "outputs": [
    {
     "name": "stdout",
     "output_type": "stream",
     "text": [
      "[[0. 0. 0. 0. 0.]\n",
      " [0. 0. 0. 0. 0.]\n",
      " [0. 0. 0. 0. 0.]\n",
      " [0. 0. 0. 0. 0.]\n",
      " [0. 0. 0. 0. 0.]]\n"
     ]
    }
   ],
   "source": [
    "np.set_printoptions(threshold=float(\"inf\"))\n",
    "A = np.zeros((5,5))\n",
    "print(A)"
   ]
  },
  {
   "cell_type": "markdown",
   "id": "e6e1ae2f",
   "metadata": {},
   "source": [
    "#### 50. How to find the closest value (to a given scalar) in a vector? (★★☆)\n",
    "`💡hint: argmin`"
   ]
  },
  {
   "cell_type": "code",
   "execution_count": 50,
   "id": "29a9e416",
   "metadata": {},
   "outputs": [
    {
     "name": "stdout",
     "output_type": "stream",
     "text": [
      "17\n"
     ]
    }
   ],
   "source": [
    "A = np.arange(50)\n",
    "M = np.random.uniform(0,50)\n",
    "index = (np.abs(A-M)).argmin()\n",
    "print(A[index])"
   ]
  },
  {
   "cell_type": "markdown",
   "id": "c01f0ecf",
   "metadata": {},
   "source": [
    "#### 51. Create a structured array representing a position (x,y) and a color (r,g,b) (★★☆)\n",
    "`💡hint: dtype`"
   ]
  },
  {
   "cell_type": "code",
   "execution_count": 55,
   "id": "a3241eca",
   "metadata": {},
   "outputs": [
    {
     "name": "stdout",
     "output_type": "stream",
     "text": [
      "[((0., 0.), (0., 0., 0.)) ((0., 0.), (0., 0., 0.))\n",
      " ((0., 0.), (0., 0., 0.)) ((0., 0.), (0., 0., 0.))\n",
      " ((0., 0.), (0., 0., 0.)) ((0., 0.), (0., 0., 0.))\n",
      " ((0., 0.), (0., 0., 0.)) ((0., 0.), (0., 0., 0.))\n",
      " ((0., 0.), (0., 0., 0.)) ((0., 0.), (0., 0., 0.))]\n"
     ]
    },
    {
     "name": "stderr",
     "output_type": "stream",
     "text": [
      "<ipython-input-55-b5e407d4dd4e>:1: FutureWarning: Passing (type, 1) or '1type' as a synonym of type is deprecated; in a future version of numpy, it will be understood as (type, (1,)) / '(1,)type'.\n",
      "  A = np.zeros(10, [ ('position', [ ('x', float, 1),\n"
     ]
    }
   ],
   "source": [
    "A = np.zeros(10, [ ('position', [ ('x', float, 1),\n",
    "                                  ('y', float, 1)]),\n",
    "                   ('color',    [ ('r', float, 1),\n",
    "                                  ('g', float, 1),\n",
    "                                  ('b', float, 1)])])\n",
    "print(A)"
   ]
  },
  {
   "cell_type": "markdown",
   "id": "3b64a18b",
   "metadata": {},
   "source": [
    "#### 52. Consider a random vector with shape (100,2) representing coordinates, find point by point distances (★★☆)\n",
    "`💡hint: np.atleast_2d, T, np.sqrt`"
   ]
  },
  {
   "cell_type": "code",
   "execution_count": 56,
   "id": "f27585c3",
   "metadata": {},
   "outputs": [
    {
     "name": "stdout",
     "output_type": "stream",
     "text": [
      "[[0.         0.92038286 1.03884928 0.77551311 0.47871083 1.05343683\n",
      "  0.56442167 0.66388441 0.96314411 0.6253299 ]\n",
      " [0.92038286 0.         0.50364586 0.76489948 0.86017206 0.48843202\n",
      "  0.6294026  0.26158959 0.54752004 0.30913032]\n",
      " [1.03884928 0.50364586 0.         0.4541552  0.7284998  0.02909815\n",
      "  0.50612279 0.52167647 0.11174725 0.64700234]\n",
      " [0.77551311 0.76489948 0.4541552  0.         0.33563679 0.4820475\n",
      "  0.24374935 0.60567377 0.34245921 0.70983132]\n",
      " [0.47871083 0.86017206 0.7284998  0.33563679 0.         0.75211315\n",
      "  0.24366309 0.62387656 0.62534388 0.67859863]\n",
      " [1.05343683 0.48843202 0.02909815 0.4820475  0.75211315 0.\n",
      "  0.52681219 0.52073611 0.13999665 0.64502405]\n",
      " [0.56442167 0.6294026  0.50612279 0.24374935 0.24366309 0.52681219\n",
      "  0.         0.41518292 0.41346366 0.4981814 ]\n",
      " [0.66388441 0.26158959 0.52167647 0.60567377 0.62387656 0.52073611\n",
      "  0.41518292 0.         0.51007118 0.12655442]\n",
      " [0.96314411 0.54752004 0.11174725 0.34245921 0.62534388 0.13999665\n",
      "  0.41346366 0.51007118 0.         0.63644024]\n",
      " [0.6253299  0.30913032 0.64700234 0.70983132 0.67859863 0.64502405\n",
      "  0.4981814  0.12655442 0.63644024 0.        ]]\n"
     ]
    }
   ],
   "source": [
    "Z = np.random.random((10,2))\n",
    "X,Y = np.atleast_2d(Z[:,0], Z[:,1])\n",
    "D = np.sqrt( (X-X.T)**2 + (Y-Y.T)**2)\n",
    "print(D)"
   ]
  },
  {
   "cell_type": "markdown",
   "id": "48413134",
   "metadata": {},
   "source": [
    "#### 53. How to convert a float (32 bits) array into an integer (32 bits) in place?\n",
    "`💡hint: view and [:] =`"
   ]
  },
  {
   "cell_type": "code",
   "execution_count": 58,
   "id": "59c8357d",
   "metadata": {},
   "outputs": [
    {
     "name": "stdout",
     "output_type": "stream",
     "text": [
      "[78 58 76 89 64  6  3 67 73 32]\n"
     ]
    }
   ],
   "source": [
    "A = (np.random.rand(10)*100).astype(np.float32)\n",
    "Y = A.view(np.int32)\n",
    "Y[:] =A\n",
    "print(Y)"
   ]
  },
  {
   "cell_type": "markdown",
   "id": "0a532633",
   "metadata": {},
   "source": [
    "#### 54. How to read the following file? (★★☆)\n",
    "```\n",
    "1, 2, 3, 4, 5\n",
    "6,  ,  , 7, 8\n",
    " ,  , 9,10,11\n",
    "```\n",
    "`💡hint: np.genfromtxt`"
   ]
  },
  {
   "cell_type": "code",
   "execution_count": 61,
   "id": "81b2915b",
   "metadata": {},
   "outputs": [
    {
     "name": "stdout",
     "output_type": "stream",
     "text": [
      "[[ 1  2  3  4  5]\n",
      " [ 6 -1 -1  7  8]\n",
      " [-1 -1  9 10 11]]\n"
     ]
    },
    {
     "name": "stderr",
     "output_type": "stream",
     "text": [
      "<ipython-input-61-798c023739ce>:8: DeprecationWarning: `np.int` is a deprecated alias for the builtin `int`. To silence this warning, use `int` by itself. Doing this will not modify any behavior and is safe. When replacing `np.int`, you may wish to use e.g. `np.int64` or `np.int32` to specify the precision. If you wish to review your current use, check the release note link for additional information.\n",
      "Deprecated in NumPy 1.20; for more details and guidance: https://numpy.org/devdocs/release/1.20.0-notes.html#deprecations\n",
      "  B = np.genfromtxt(A, delimiter=\",\", dtype=np.int)\n"
     ]
    }
   ],
   "source": [
    "from io import StringIO\n",
    "A = StringIO('''1, 2, 3, 4, 5\n",
    "\n",
    "                6,  ,  , 7, 8\n",
    "\n",
    "                 ,  , 9,10,11\n",
    "''')\n",
    "B = np.genfromtxt(A, delimiter=\",\", dtype=np.int)\n",
    "print(B)"
   ]
  },
  {
   "cell_type": "markdown",
   "id": "f98713a6",
   "metadata": {},
   "source": [
    "#### 55. What is the equivalent of enumerate for numpy arrays? (★★☆)\n",
    "`💡hint: np.ndenumerate, np.ndindex`"
   ]
  },
  {
   "cell_type": "code",
   "execution_count": 65,
   "id": "c8ace8dc",
   "metadata": {},
   "outputs": [
    {
     "name": "stdout",
     "output_type": "stream",
     "text": [
      "(0, 0) 0\n",
      "(0, 1) 1\n",
      "(0, 2) 2\n",
      "(1, 0) 3\n",
      "(1, 1) 4\n",
      "(1, 2) 5\n",
      "(2, 0) 6\n",
      "(2, 1) 7\n",
      "(2, 2) 8\n"
     ]
    }
   ],
   "source": [
    "A=np.arange(9).reshape(3,3)\n",
    "for index,value in np.ndenumerate(A):\n",
    "    print(index,value)"
   ]
  },
  {
   "cell_type": "markdown",
   "id": "1abc7cc8",
   "metadata": {},
   "source": [
    "#### 56. Generate a generic 2D Gaussian-like array (★★☆)\n",
    "`💡hint: np.meshgrid, np.exp`"
   ]
  },
  {
   "cell_type": "code",
   "execution_count": null,
   "id": "8389dbf6",
   "metadata": {},
   "outputs": [],
   "source": []
  },
  {
   "cell_type": "markdown",
   "id": "0cf413ee",
   "metadata": {},
   "source": [
    "#### 57. How to randomly place e elements in a 2D array? (★★☆)\n",
    "`💡hint: np.put, np.random.choice`"
   ]
  },
  {
   "cell_type": "code",
   "execution_count": null,
   "id": "884c88de",
   "metadata": {},
   "outputs": [],
   "source": []
  },
  {
   "cell_type": "markdown",
   "id": "215b6acc",
   "metadata": {},
   "source": [
    "#### 58. Subtract the mean of each row of a matrix (★★☆)\n",
    "`💡hint: mean(axis=,keepdims=)`"
   ]
  },
  {
   "cell_type": "code",
   "execution_count": null,
   "id": "76d3b16a",
   "metadata": {},
   "outputs": [],
   "source": []
  },
  {
   "cell_type": "markdown",
   "id": "c0cf37e0",
   "metadata": {},
   "source": [
    "#### 59. How to sort an array by the nth column? (★★☆)\n",
    "`💡hint: argsort`"
   ]
  },
  {
   "cell_type": "code",
   "execution_count": null,
   "id": "f99dfd2a",
   "metadata": {},
   "outputs": [],
   "source": []
  },
  {
   "cell_type": "markdown",
   "id": "c17fb213",
   "metadata": {},
   "source": [
    "#### 60. How to tell if a given 2D array has null columns? (★★☆)\n",
    "`💡hint: any, ~`"
   ]
  },
  {
   "cell_type": "code",
   "execution_count": null,
   "id": "84346fc8",
   "metadata": {},
   "outputs": [],
   "source": []
  },
  {
   "cell_type": "markdown",
   "id": "8aaab886",
   "metadata": {},
   "source": [
    "#### 61. Find the nearest value from a given value in an array (★★☆)\n",
    "`💡hint: np.abs, argmin, flat`"
   ]
  },
  {
   "cell_type": "code",
   "execution_count": null,
   "id": "72a6090d",
   "metadata": {},
   "outputs": [],
   "source": []
  },
  {
   "cell_type": "markdown",
   "id": "66a04e2e",
   "metadata": {},
   "source": [
    "#### 62. Considering two arrays with shape (1,3) and (3,1), how to compute their sum using an iterator? (★★☆)\n",
    "`💡"
   ]
  },
  {
   "cell_type": "code",
   "execution_count": null,
   "id": "93774f24",
   "metadata": {},
   "outputs": [],
   "source": []
  },
  {
   "cell_type": "markdown",
   "id": "f4427f7f",
   "metadata": {},
   "source": [
    "#### 63. Create an array class that has a name attribute (★★☆)\n",
    "`💡hint: class method`"
   ]
  },
  {
   "cell_type": "code",
   "execution_count": null,
   "id": "6e1952ed",
   "metadata": {},
   "outputs": [],
   "source": []
  },
  {
   "cell_type": "markdown",
   "id": "58be9dd4",
   "metadata": {},
   "source": [
    "#### 64. Consider a given vector, how to add 1 to each element indexed by a second vector (be careful with repeated indices)? (★★★)\n",
    "`💡hint: np.bincount | np.add.at`"
   ]
  },
  {
   "cell_type": "code",
   "execution_count": null,
   "id": "9cf9e134",
   "metadata": {},
   "outputs": [],
   "source": []
  },
  {
   "cell_type": "markdown",
   "id": "7348abd0",
   "metadata": {},
   "source": [
    "#### 65. How to accumulate elements of a vector (X) to an array (F) based on an index list (I)? (★★★)\n",
    "`💡hint: np.bincount`"
   ]
  },
  {
   "cell_type": "code",
   "execution_count": null,
   "id": "43a58dde",
   "metadata": {},
   "outputs": [],
   "source": []
  },
  {
   "cell_type": "markdown",
   "id": "538e651c",
   "metadata": {},
   "source": [
    "#### 66. Considering a (w,h,3) image of (dtype=ubyte), compute the number of unique colors (★★☆)\n",
    "`💡hint: np.unique`"
   ]
  },
  {
   "cell_type": "code",
   "execution_count": null,
   "id": "60b487a1",
   "metadata": {},
   "outputs": [],
   "source": []
  },
  {
   "cell_type": "markdown",
   "id": "33c986d9",
   "metadata": {},
   "source": [
    "#### 67. Considering a four dimensions array, how to get sum over the last two axis at once? (★★★)\n",
    "`💡hint: sum(axis=(-2,-1))`"
   ]
  },
  {
   "cell_type": "code",
   "execution_count": null,
   "id": "6ba943fe",
   "metadata": {},
   "outputs": [],
   "source": []
  },
  {
   "cell_type": "markdown",
   "id": "00eb27c4",
   "metadata": {},
   "source": [
    "#### 68. Considering a one-dimensional vector D, how to compute means of subsets of D using a vector S of same size describing subset  indices? (★★★)\n",
    "`💡hint: np.bincount`"
   ]
  },
  {
   "cell_type": "code",
   "execution_count": null,
   "id": "177b219c",
   "metadata": {},
   "outputs": [],
   "source": []
  },
  {
   "cell_type": "markdown",
   "id": "928a1a15",
   "metadata": {},
   "source": [
    "#### 69. How to get the diagonal of a dot product? (★★★)\n",
    "`💡hint: np.diag`"
   ]
  },
  {
   "cell_type": "code",
   "execution_count": null,
   "id": "038b9c1c",
   "metadata": {},
   "outputs": [],
   "source": []
  },
  {
   "cell_type": "markdown",
   "id": "5143f7f3",
   "metadata": {},
   "source": [
    "#### 70. Consider the vector [1, 2, 3, 4, 5], how to build a new vector with 3 consecutive zeros interleaved between each value? (★★★)\n",
    "`💡hint: array[::4]`"
   ]
  },
  {
   "cell_type": "code",
   "execution_count": null,
   "id": "9913e7b0",
   "metadata": {},
   "outputs": [],
   "source": []
  },
  {
   "cell_type": "markdown",
   "id": "f62551d8",
   "metadata": {},
   "source": [
    "#### 71. Consider an array of dimension (5,5,3), how to mulitply it by an array with dimensions (5,5)? (★★★)\n",
    "`💡hint: array[:, :, None]`"
   ]
  },
  {
   "cell_type": "code",
   "execution_count": null,
   "id": "02967528",
   "metadata": {},
   "outputs": [],
   "source": []
  },
  {
   "cell_type": "markdown",
   "id": "6896e326",
   "metadata": {},
   "source": [
    "#### 72. How to swap two rows of an array? (★★★)\n",
    "`💡hint: array[[]] = array[[]]`"
   ]
  },
  {
   "cell_type": "code",
   "execution_count": null,
   "id": "33488c53",
   "metadata": {},
   "outputs": [],
   "source": []
  },
  {
   "cell_type": "markdown",
   "id": "aeaf4a7b",
   "metadata": {},
   "source": [
    "#### 73. Consider a set of 10 triplets describing 10 triangles (with shared vertices), find the set of unique line segments composing all the  triangles (★★★)\n",
    "`💡hint: repeat, np.roll, np.sort, view, np.unique`"
   ]
  },
  {
   "cell_type": "code",
   "execution_count": null,
   "id": "be837a66",
   "metadata": {},
   "outputs": [],
   "source": []
  },
  {
   "cell_type": "markdown",
   "id": "3d11451b",
   "metadata": {},
   "source": [
    "#### 74. Given a sorted array C that corresponds to a bincount, how to produce an array A such that np.bincount(A) == C? (★★★)\n",
    "`💡hint: np.repeat`"
   ]
  },
  {
   "cell_type": "code",
   "execution_count": null,
   "id": "6912341a",
   "metadata": {},
   "outputs": [],
   "source": []
  },
  {
   "cell_type": "markdown",
   "id": "a0a45995",
   "metadata": {},
   "source": [
    "#### 75. How to compute averages using a sliding window over an array? (★★★)\n",
    "`💡hint: np.cumsum`"
   ]
  },
  {
   "cell_type": "code",
   "execution_count": null,
   "id": "d307be78",
   "metadata": {},
   "outputs": [],
   "source": []
  },
  {
   "cell_type": "markdown",
   "id": "7808578f",
   "metadata": {},
   "source": [
    "#### 76. Consider a one-dimensional array Z, build a two-dimensional array whose first row is (Z[0],Z[1],Z[2]) and each subsequent row is  shifted by 1 (last row should be (Z[-3],Z[-2],Z[-1]) (★★★)\n",
    "`💡hint: from numpy.lib import stride_tricks`"
   ]
  },
  {
   "cell_type": "code",
   "execution_count": null,
   "id": "539e5596",
   "metadata": {},
   "outputs": [],
   "source": []
  },
  {
   "cell_type": "markdown",
   "id": "8e83df46",
   "metadata": {},
   "source": [
    "#### 77. How to negate a boolean, or to change the sign of a float inplace? (★★★)\n",
    "`💡hint: np.logical_not, np.negative`"
   ]
  },
  {
   "cell_type": "code",
   "execution_count": null,
   "id": "90da18ec",
   "metadata": {},
   "outputs": [],
   "source": []
  },
  {
   "cell_type": "markdown",
   "id": "e67ff31c",
   "metadata": {},
   "source": [
    "#### 78. Consider 2 sets of points P0,P1 describing lines (2d) and a point p, how to compute distance from p to each line i (P0[i],P1[i])? (★★★)"
   ]
  },
  {
   "cell_type": "code",
   "execution_count": null,
   "id": "aaa0c5cb",
   "metadata": {},
   "outputs": [],
   "source": []
  },
  {
   "cell_type": "markdown",
   "id": "ad8821b1",
   "metadata": {},
   "source": [
    "#### 79. Consider 2 sets of points P0,P1 describing lines (2d) and a set of points P, how to compute distance from each point j (P[j]) to each line i (P0[i],P1[i])? (★★★)"
   ]
  },
  {
   "cell_type": "code",
   "execution_count": null,
   "id": "12f9a524",
   "metadata": {},
   "outputs": [],
   "source": []
  },
  {
   "cell_type": "markdown",
   "id": "a0c8cbf5",
   "metadata": {},
   "source": [
    "#### 80. Consider an arbitrary array, write a function that extract a subpart with a fixed shape and centered on a given element (pad with a `fill` value when necessary) (★★★)\n",
    "`💡hint: minimum maximum`"
   ]
  },
  {
   "cell_type": "code",
   "execution_count": null,
   "id": "6e44ae96",
   "metadata": {},
   "outputs": [],
   "source": []
  },
  {
   "cell_type": "markdown",
   "id": "781fa236",
   "metadata": {},
   "source": [
    "#### 81. Consider an array a = [1,2,3,4,5,6,7,8,9,10,11,12,13,14], how to generate an array b = [[1,2,3,4], [2,3,4,5], [3,4,5,6], ..., [11,12,13,14]]? (★★★)\n",
    "`💡hint: stride_tricks.as_strided`"
   ]
  },
  {
   "cell_type": "code",
   "execution_count": null,
   "id": "82e3d17e",
   "metadata": {},
   "outputs": [],
   "source": []
  },
  {
   "cell_type": "markdown",
   "id": "9c9bb0f3",
   "metadata": {},
   "source": [
    "#### 82. Compute a matrix rank (★★★)\n",
    "`💡hint: np.linalg.svd`"
   ]
  },
  {
   "cell_type": "code",
   "execution_count": null,
   "id": "18f053fa",
   "metadata": {},
   "outputs": [],
   "source": []
  },
  {
   "cell_type": "markdown",
   "id": "7d8dc135",
   "metadata": {},
   "source": [
    "#### 83. How to find the most frequent value in an array?\n",
    "`💡hint: np.bincount, argmax`"
   ]
  },
  {
   "cell_type": "code",
   "execution_count": null,
   "id": "81844e99",
   "metadata": {},
   "outputs": [],
   "source": []
  },
  {
   "cell_type": "markdown",
   "id": "aa340126",
   "metadata": {},
   "source": [
    "#### 84. Extract all the contiguous 3x3 blocks from a random 10x10 matrix (★★★)\n",
    "`💡hint: stride_tricks.as_strided`"
   ]
  },
  {
   "cell_type": "code",
   "execution_count": null,
   "id": "f39dd2dd",
   "metadata": {},
   "outputs": [],
   "source": []
  },
  {
   "cell_type": "markdown",
   "id": "6b6d2c84",
   "metadata": {},
   "source": [
    "#### 85. Create a 2D array subclass such that a[i,j] == a[j,i] (★★★)\n",
    "`💡hint: class method`"
   ]
  },
  {
   "cell_type": "code",
   "execution_count": null,
   "id": "1916d67d",
   "metadata": {},
   "outputs": [],
   "source": []
  },
  {
   "cell_type": "markdown",
   "id": "7be0fe36",
   "metadata": {},
   "source": [
    "#### 86. Consider a set of p matrices wich shape (n,n) and a set of p vectors with shape (n,1). How to compute the sum of of the p matrix products at once? (result has shape (n,1)) (★★★)\n",
    "`💡hint: np.tensordot`"
   ]
  },
  {
   "cell_type": "code",
   "execution_count": null,
   "id": "1d07c08f",
   "metadata": {},
   "outputs": [],
   "source": []
  },
  {
   "cell_type": "markdown",
   "id": "a840a88f",
   "metadata": {},
   "source": [
    "#### 87. Consider a 16x16 array, how to get the block-sum (block size is 4x4)? (★★★)\n",
    "`💡hint: np.add.reduceat`"
   ]
  },
  {
   "cell_type": "code",
   "execution_count": null,
   "id": "7200f861",
   "metadata": {},
   "outputs": [],
   "source": []
  },
  {
   "cell_type": "markdown",
   "id": "c2bd7385",
   "metadata": {},
   "source": [
    "#### 88. How to implement the Game of Life using numpy arrays? (★★★)"
   ]
  },
  {
   "cell_type": "code",
   "execution_count": null,
   "id": "7a5d67d2",
   "metadata": {},
   "outputs": [],
   "source": []
  },
  {
   "cell_type": "markdown",
   "id": "4c70397b",
   "metadata": {},
   "source": [
    "#### 89. How to get the n largest values of an array (★★★)\n",
    "`💡hint: np.argsort | np.argpartition`"
   ]
  },
  {
   "cell_type": "code",
   "execution_count": null,
   "id": "732993b7",
   "metadata": {},
   "outputs": [],
   "source": []
  },
  {
   "cell_type": "markdown",
   "id": "15ba193c",
   "metadata": {},
   "source": [
    "#### 90. Given an arbitrary number of vectors, build the cartesian product (every combinations of every item) (★★★)\n",
    "`💡hint: np.indices`"
   ]
  },
  {
   "cell_type": "code",
   "execution_count": null,
   "id": "3a315a00",
   "metadata": {},
   "outputs": [],
   "source": []
  },
  {
   "cell_type": "markdown",
   "id": "ec828405",
   "metadata": {},
   "source": [
    "#### 91. How to create a record array from a regular array? (★★★)\n",
    "`💡hint: np.core.records.fromarrays`"
   ]
  },
  {
   "cell_type": "code",
   "execution_count": null,
   "id": "608a017a",
   "metadata": {},
   "outputs": [],
   "source": []
  },
  {
   "cell_type": "markdown",
   "id": "d94352b6",
   "metadata": {},
   "source": [
    "#### 92. Consider a large vector A, compute A to the power of 3 using 3 different methods (★★★)\n",
    "`💡hint: np.power, *, np.einsum`"
   ]
  },
  {
   "cell_type": "code",
   "execution_count": null,
   "id": "759d5ce5",
   "metadata": {},
   "outputs": [],
   "source": []
  },
  {
   "cell_type": "markdown",
   "id": "7c3a9e32",
   "metadata": {},
   "source": [
    "#### 93. Consider two arrays A and B of shape (8,3) and (2,2). How to find rows of A that contain elements of each row of B regardless of the order of the elements in B? (★★★)\n",
    "`💡hint: np.where`"
   ]
  },
  {
   "cell_type": "code",
   "execution_count": null,
   "id": "5c293501",
   "metadata": {},
   "outputs": [],
   "source": []
  },
  {
   "cell_type": "markdown",
   "id": "da9d5eeb",
   "metadata": {},
   "source": [
    "#### 94. Considering a 10x3 matrix, extract rows with unequal values (e.g. [2,2,3]) (★★★)"
   ]
  },
  {
   "cell_type": "code",
   "execution_count": null,
   "id": "89d5fba0",
   "metadata": {},
   "outputs": [],
   "source": []
  },
  {
   "cell_type": "markdown",
   "id": "f7b65fd5",
   "metadata": {},
   "source": [
    "#### 95. Convert a vector of ints into a matrix binary representation (★★★)\n",
    "`💡hint: np.unpackbits`"
   ]
  },
  {
   "cell_type": "code",
   "execution_count": null,
   "id": "4edef8b1",
   "metadata": {},
   "outputs": [],
   "source": []
  },
  {
   "cell_type": "markdown",
   "id": "2784c996",
   "metadata": {},
   "source": [
    "#### 96. Given a two dimensional array, how to extract unique rows? (★★★)\n",
    "`💡hint: np.ascontiguousarray | np.unique`"
   ]
  },
  {
   "cell_type": "code",
   "execution_count": null,
   "id": "1d65d01e",
   "metadata": {},
   "outputs": [],
   "source": []
  },
  {
   "cell_type": "markdown",
   "id": "71a7574c",
   "metadata": {},
   "source": [
    "#### 97. Considering 2 vectors A & B, write the einsum equivalent of inner, outer, sum, and mul function (★★★)\n",
    "`💡hint: np.einsum`"
   ]
  },
  {
   "cell_type": "code",
   "execution_count": null,
   "id": "43471b2e",
   "metadata": {},
   "outputs": [],
   "source": []
  },
  {
   "cell_type": "markdown",
   "id": "30f06441",
   "metadata": {},
   "source": [
    "#### 98. Considering a path described by two vectors (X,Y), how to sample it using equidistant samples (★★★)?\n",
    "`💡hint: np.cumsum, np.interp`"
   ]
  },
  {
   "cell_type": "code",
   "execution_count": null,
   "id": "ddac593f",
   "metadata": {},
   "outputs": [],
   "source": []
  },
  {
   "cell_type": "markdown",
   "id": "e5737276",
   "metadata": {},
   "source": [
    "#### 99. Given an integer n and a 2D array X, select from X the rows which can be interpreted as draws from a multinomial distribution with n degrees, i.e., the rows which only contain integers and which sum to n. (★★★)\n",
    "`💡hint: np.logical_and.reduce, np.mod`"
   ]
  },
  {
   "cell_type": "code",
   "execution_count": null,
   "id": "5d0d0fa8",
   "metadata": {},
   "outputs": [],
   "source": []
  },
  {
   "cell_type": "markdown",
   "id": "5882e36d",
   "metadata": {},
   "source": [
    "#### 100. Compute bootstrapped 95% confidence intervals for the mean of a 1D array X (i.e., resample the elements of an array with replacement N times, compute the mean of each sample, and then compute percentiles over the means). (★★★)\n",
    "`💡hint: np.percentile`"
   ]
  },
  {
   "cell_type": "code",
   "execution_count": null,
   "id": "c21a8816",
   "metadata": {},
   "outputs": [],
   "source": []
  }
 ],
 "metadata": {
  "hide_input": false,
  "kernelspec": {
   "display_name": "Python 3",
   "language": "python",
   "name": "python3"
  },
  "language_info": {
   "codemirror_mode": {
    "name": "ipython",
    "version": 3
   },
   "file_extension": ".py",
   "mimetype": "text/x-python",
   "name": "python",
   "nbconvert_exporter": "python",
   "pygments_lexer": "ipython3",
   "version": "3.8.8"
  },
  "toc": {
   "base_numbering": 1,
   "nav_menu": {},
   "number_sections": true,
   "sideBar": true,
   "skip_h1_title": false,
   "title_cell": "Table of Contents",
   "title_sidebar": "Contents",
   "toc_cell": false,
   "toc_position": {},
   "toc_section_display": true,
   "toc_window_display": false
  },
  "varInspector": {
   "cols": {
    "lenName": 16,
    "lenType": 16,
    "lenVar": 40
   },
   "kernels_config": {
    "python": {
     "delete_cmd_postfix": "",
     "delete_cmd_prefix": "del ",
     "library": "var_list.py",
     "varRefreshCmd": "print(var_dic_list())"
    },
    "r": {
     "delete_cmd_postfix": ") ",
     "delete_cmd_prefix": "rm(",
     "library": "var_list.r",
     "varRefreshCmd": "cat(var_dic_list()) "
    }
   },
   "types_to_exclude": [
    "module",
    "function",
    "builtin_function_or_method",
    "instance",
    "_Feature"
   ],
   "window_display": false
  }
 },
 "nbformat": 4,
 "nbformat_minor": 5
}
