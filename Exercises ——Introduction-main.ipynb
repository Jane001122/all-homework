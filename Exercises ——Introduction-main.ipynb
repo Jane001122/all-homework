{
 "cells": [
  {
   "cell_type": "code",
   "execution_count": 1,
   "id": "9d2caab5",
   "metadata": {},
   "outputs": [],
   "source": [
    "#Declare your age as integer variable\n",
    "Age=18 #I will always be eighteen."
   ]
  },
  {
   "cell_type": "code",
   "execution_count": 3,
   "id": "4d06c3a7",
   "metadata": {},
   "outputs": [
    {
     "name": "stdout",
     "output_type": "stream",
     "text": [
      "18\n"
     ]
    }
   ],
   "source": [
    "print(int(Age))"
   ]
  },
  {
   "cell_type": "code",
   "execution_count": 4,
   "id": "df2d388c",
   "metadata": {},
   "outputs": [],
   "source": [
    "#Declare your height as a float variable\n",
    "Height=165"
   ]
  },
  {
   "cell_type": "code",
   "execution_count": 5,
   "id": "92fea806",
   "metadata": {},
   "outputs": [
    {
     "name": "stdout",
     "output_type": "stream",
     "text": [
      "165.0\n"
     ]
    }
   ],
   "source": [
    "print(float(Height))"
   ]
  },
  {
   "cell_type": "code",
   "execution_count": 6,
   "id": "7fa73664",
   "metadata": {},
   "outputs": [],
   "source": [
    "#Declare a variable that store a complex number\n",
    "c=Age+Height"
   ]
  },
  {
   "cell_type": "code",
   "execution_count": 7,
   "id": "48483e28",
   "metadata": {},
   "outputs": [
    {
     "name": "stdout",
     "output_type": "stream",
     "text": [
      "(183+0j)\n"
     ]
    }
   ],
   "source": [
    "print(complex(c))"
   ]
  },
  {
   "cell_type": "code",
   "execution_count": 26,
   "id": "a4147e13",
   "metadata": {},
   "outputs": [
    {
     "name": "stdout",
     "output_type": "stream",
     "text": [
      "plz input base:21\n",
      "plz input height:56\n",
      "588\n"
     ]
    }
   ],
   "source": [
    "#Write a code that prompts the user to enter base and height of the triangle and calculate an area of this triangle (area = 0.5 x b x h).\n",
    "base =int(input(\"plz input base:\"))\n",
    "height = int(input(\"plz input height:\"))\n",
    "area = 0.5*base*height\n",
    "print(int(area))"
   ]
  },
  {
   "cell_type": "code",
   "execution_count": 27,
   "id": "76fedf36",
   "metadata": {},
   "outputs": [
    {
     "name": "stdout",
     "output_type": "stream",
     "text": [
      "plz input side a:6\n",
      "plz input side b:4\n",
      "plz input side c:8\n",
      "18\n"
     ]
    }
   ],
   "source": [
    "#Write a code that prompts the user to enter side a, side b, and side c of the triangle. Calculate the perimeter of the triangle (perimeter = a + b + c).\n",
    "sda =int(input(\"plz input side a:\"))\n",
    "sdb = int(input(\"plz input side b:\"))\n",
    "sdc = int(input(\"plz input side c:\"))\n",
    "perimeter = sda+sdb+sdc\n",
    "print(int(perimeter))"
   ]
  },
  {
   "cell_type": "code",
   "execution_count": 28,
   "id": "b9608eda",
   "metadata": {},
   "outputs": [
    {
     "name": "stdout",
     "output_type": "stream",
     "text": [
      "plz input the length 5\n",
      "plz input the width 6\n",
      "area is: 30\n",
      "perimeter is: 22\n"
     ]
    }
   ],
   "source": [
    "#Get length and width of a rectangle using prompt. Calculate its area (area = length x width) and perimeter (perimeter = 2 x (length + width))\n",
    "length = int(input('plz input the length '))\n",
    "width = int(input('plz input the width '))\n",
    "area = length*width\n",
    "print(\"area is:\",area)\n",
    "perimeter = 2*(length+width)\n",
    "print(\"perimeter is:\",perimeter)"
   ]
  },
  {
   "cell_type": "code",
   "execution_count": 1,
   "id": "40ec6b00",
   "metadata": {},
   "outputs": [
    {
     "name": "stdout",
     "output_type": "stream",
     "text": [
      "plz input the radius 6\n",
      "area is: 113.03999999999999\n",
      "circumference is: 37.68\n"
     ]
    }
   ],
   "source": [
    "#Get radius of a circle using prompt. Calculate the area (area = pi x r x r) and circumference (c = 2 x pi x r) where pi = 3.14.\n",
    "radius = int(input('plz input the radius '))\n",
    "area = 3.14*radius*radius\n",
    "circumference = 2*3.14*radius\n",
    "print(\"area is:\",float(area))\n",
    "print(\"circumference is:\",float(circumference))"
   ]
  },
  {
   "cell_type": "code",
   "execution_count": 2,
   "id": "585789a2",
   "metadata": {},
   "outputs": [
    {
     "name": "stdout",
     "output_type": "stream",
     "text": [
      "8\n"
     ]
    }
   ],
   "source": [
    "#slope is ( 𝑚=(𝑦2−𝑦1)/(𝑥2−𝑥1) ). Find the slope and Euclidean distance between point (2, 2) and point (6,10)\n",
    "import numpy as np\n",
    "import math\n",
    "p1=np.array([2,2])\n",
    "p2=np.array([6,10])\n",
    "p3=p2-p1\n",
    "p4=math.hypot(p3[0],p3[1])\n",
    "print(int(p4))"
   ]
  },
  {
   "cell_type": "code",
   "execution_count": 3,
   "id": "bfa4ba9d",
   "metadata": {},
   "outputs": [
    {
     "name": "stdout",
     "output_type": "stream",
     "text": [
      "2\n"
     ]
    }
   ],
   "source": [
    "p1 = [2, 2]\n",
    "p2 = [6, 10] \n",
    "slope = abs((p1[1] - p2[1]) / (p1[0] - p2[0] )) \n",
    "print(int(slope))"
   ]
  },
  {
   "cell_type": "code",
   "execution_count": 4,
   "id": "281465c6",
   "metadata": {},
   "outputs": [
    {
     "name": "stdout",
     "output_type": "stream",
     "text": [
      "[-3]\n"
     ]
    }
   ],
   "source": [
    "#Calculate the value of y ( 𝑦=𝑥2+6𝑥+9y=x2+6x+9 ). Try to use different x values and figure out at what x value y is going to be 0.\n",
    "from sympy import *\n",
    "x = symbols('x')\n",
    "print(solve(x*x+6*x+9,x))"
   ]
  },
  {
   "cell_type": "code",
   "execution_count": 5,
   "id": "d1acc73e",
   "metadata": {},
   "outputs": [
    {
     "data": {
      "text/plain": [
       "False"
      ]
     },
     "execution_count": 5,
     "metadata": {},
     "output_type": "execute_result"
    }
   ],
   "source": [
    "#Find the length of 'python' and 'datascience' and make a falsy comparison statement.\n",
    "len(str('python'))\n",
    "len(str('datascience'))\n",
    "len(str('python'))>len(str('datascience'))"
   ]
  },
  {
   "cell_type": "code",
   "execution_count": 17,
   "id": "fc365c08",
   "metadata": {},
   "outputs": [
    {
     "name": "stdout",
     "output_type": "stream",
     "text": [
      "true\n",
      "true\n"
     ]
    }
   ],
   "source": [
    "# Use and operator to check if on is found in both python and cannon\n",
    "a = 'on'\n",
    "if a in \"python\":\n",
    "    print(\"true\")\n",
    "else:\n",
    "    print(flase)\n",
    "if a in \"cannon\":\n",
    "    print(\"true\")\n",
    "else:\n",
    "    print(flase)"
   ]
  },
  {
   "cell_type": "code",
   "execution_count": 9,
   "id": "570dbf20",
   "metadata": {},
   "outputs": [
    {
     "name": "stdout",
     "output_type": "stream",
     "text": [
      "true\n"
     ]
    }
   ],
   "source": [
    "#I hope this course is not full of jargon. Use in operator to check if jargon is in the sentence.\n",
    "a = 'I hope this course is not full of jargon.'\n",
    "if 'jargon' in a:\n",
    "    print('true')\n",
    "else:\n",
    "    print(flase)"
   ]
  },
  {
   "cell_type": "code",
   "execution_count": 14,
   "id": "66c089a5",
   "metadata": {},
   "outputs": [
    {
     "name": "stdout",
     "output_type": "stream",
     "text": [
      "flase\n",
      "flase\n"
     ]
    }
   ],
   "source": [
    "#There is no on in both python and cannon\n",
    "a = 'on'\n",
    "if a in \"python\":\n",
    "    print('flase')\n",
    "else:\n",
    "    print(true)\n",
    "if a in \"cannon\":\n",
    "    print('flase')\n",
    "else:\n",
    "    print(true)"
   ]
  },
  {
   "cell_type": "code",
   "execution_count": 18,
   "id": "2b4db93e",
   "metadata": {},
   "outputs": [
    {
     "name": "stdout",
     "output_type": "stream",
     "text": [
      "6.0\n"
     ]
    }
   ],
   "source": [
    "#Find the length of the text python and convert the value to float and convert it to string\n",
    "print(str(float(len(str('python')))))"
   ]
  },
  {
   "cell_type": "code",
   "execution_count": 19,
   "id": "2883652f",
   "metadata": {},
   "outputs": [
    {
     "name": "stdout",
     "output_type": "stream",
     "text": [
      "a:5\n",
      "odd\n"
     ]
    }
   ],
   "source": [
    "#Even numbers are divisible by 2 and the remainder is zero. How do you check if a number is even or not using python?\n",
    "num =int( input('a:'))\n",
    "if num % 2 == 0:\n",
    "    print('even')\n",
    "else:\n",
    "    print('odd')"
   ]
  },
  {
   "cell_type": "code",
   "execution_count": 20,
   "id": "429bbc78",
   "metadata": {},
   "outputs": [
    {
     "data": {
      "text/plain": [
       "False"
      ]
     },
     "execution_count": 20,
     "metadata": {},
     "output_type": "execute_result"
    }
   ],
   "source": [
    "#Check if the floor division of 7 by 3 is equal to the int converted value of 2.7.\n",
    "7/3 ==2.7"
   ]
  },
  {
   "cell_type": "code",
   "execution_count": 21,
   "id": "fd81de0b",
   "metadata": {},
   "outputs": [
    {
     "data": {
      "text/plain": [
       "False"
      ]
     },
     "execution_count": 21,
     "metadata": {},
     "output_type": "execute_result"
    }
   ],
   "source": [
    "#Check if type of \"10\" is equal to type of 10\n",
    "type('10') == type(10)"
   ]
  }
 ],
 "metadata": {
  "kernelspec": {
   "display_name": "Python 3",
   "language": "python",
   "name": "python3"
  },
  "language_info": {
   "codemirror_mode": {
    "name": "ipython",
    "version": 3
   },
   "file_extension": ".py",
   "mimetype": "text/x-python",
   "name": "python",
   "nbconvert_exporter": "python",
   "pygments_lexer": "ipython3",
   "version": "3.8.8"
  }
 },
 "nbformat": 4,
 "nbformat_minor": 5
}
