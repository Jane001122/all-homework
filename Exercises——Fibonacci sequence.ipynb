{
 "cells": [
  {
   "cell_type": "code",
   "execution_count": 8,
   "id": "9b5bf6ee",
   "metadata": {},
   "outputs": [
    {
     "name": "stdout",
     "output_type": "stream",
     "text": [
      "where do you want to start？15\n"
     ]
    }
   ],
   "source": [
    "nterms = int(input(\"where do you want to start？\"))\n",
    "n1 = 0\n",
    "n2 = 1\n",
    "count = 2"
   ]
  },
  {
   "cell_type": "code",
   "execution_count": 9,
   "id": "e0614346",
   "metadata": {},
   "outputs": [
    {
     "name": "stdout",
     "output_type": "stream",
     "text": [
      "Fibonacci sequence：\n",
      "0 , 1 , 1 , 2 , 3 , 5 , 8 , 13 , 21 , 34 , 55 , 89 , 144 , 233 , 377 , "
     ]
    }
   ],
   "source": [
    "if nterms <= 0:\n",
    "   print(\"pls input a integer\")\n",
    "elif nterms == 1:\n",
    "   print(\"Fibonacci sequence：\")\n",
    "   print(n1)\n",
    "else:\n",
    "   print(\"Fibonacci sequence：\")\n",
    "   print(n1,\",\",n2,end=\" , \")\n",
    "   while count < nterms:\n",
    "       nth = n1 + n2\n",
    "       print(nth,end=\" , \")\n",
    "       n1 = n2\n",
    "       n2 = nth\n",
    "       count += 1"
   ]
  }
 ],
 "metadata": {
  "kernelspec": {
   "display_name": "Python 3",
   "language": "python",
   "name": "python3"
  },
  "language_info": {
   "codemirror_mode": {
    "name": "ipython",
    "version": 3
   },
   "file_extension": ".py",
   "mimetype": "text/x-python",
   "name": "python",
   "nbconvert_exporter": "python",
   "pygments_lexer": "ipython3",
   "version": "3.8.8"
  }
 },
 "nbformat": 4,
 "nbformat_minor": 5
}
